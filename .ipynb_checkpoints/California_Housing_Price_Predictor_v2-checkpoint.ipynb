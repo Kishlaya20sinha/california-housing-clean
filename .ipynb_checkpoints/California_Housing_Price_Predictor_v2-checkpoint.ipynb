{
 "cells": [
  {
   "cell_type": "markdown",
   "id": "c1bc58ba-ece0-464e-8dfa-a9a8a8aa28b0",
   "metadata": {},
   "source": [
    "# 🏡 California Housing Price Prediction using Machine Learning\n",
    "\n",
    "**Author:** Kishlaya Sinha  \n",
    "**GitHub:** [Kishlaya20sinha](https://github.com/Kishlaya20sinha)\n",
    "\n",
    "This project uses Scikit-learn and regression algorithms to predict housing prices based on California census data.\n",
    "It includes data preprocessing, EDA, multiple ML models, evaluation metrics, and visualizations.\n"
   ]
  },
  {
   "cell_type": "code",
   "execution_count": 3,
   "id": "bdb3bf02-9ffc-4719-a2dd-6b2120029c35",
   "metadata": {},
   "outputs": [
    {
     "ename": "ModuleNotFoundError",
     "evalue": "No module named 'pandas'",
     "output_type": "error",
     "traceback": [
      "\u001b[31m---------------------------------------------------------------------------\u001b[39m",
      "\u001b[31mModuleNotFoundError\u001b[39m                       Traceback (most recent call last)",
      "\u001b[36mCell\u001b[39m\u001b[36m \u001b[39m\u001b[32mIn[3]\u001b[39m\u001b[32m, line 1\u001b[39m\n\u001b[32m----> \u001b[39m\u001b[32m1\u001b[39m \u001b[38;5;28;01mimport\u001b[39;00m\u001b[38;5;250m \u001b[39m\u001b[34;01mpandas\u001b[39;00m\u001b[38;5;250m \u001b[39m\u001b[38;5;28;01mas\u001b[39;00m\u001b[38;5;250m \u001b[39m\u001b[34;01mpd\u001b[39;00m\n\u001b[32m      2\u001b[39m \u001b[38;5;28;01mimport\u001b[39;00m\u001b[38;5;250m \u001b[39m\u001b[34;01mnumpy\u001b[39;00m\u001b[38;5;250m \u001b[39m\u001b[38;5;28;01mas\u001b[39;00m\u001b[38;5;250m \u001b[39m\u001b[34;01mnp\u001b[39;00m\n",
      "\u001b[31mModuleNotFoundError\u001b[39m: No module named 'pandas'"
     ]
    }
   ],
   "source": [
    "import pandas as pd\n",
    "import numpy as np"
   ]
  },
  {
   "cell_type": "code",
   "execution_count": null,
   "id": "859eb8f5-91c7-4d8a-819e-86795f0f404e",
   "metadata": {},
   "outputs": [],
   "source": [
    "housing=pd.read_csv(r\"C:\\Users\\BIT\\Downloads\\housing.csv (2)\\housing.csv\")"
   ]
  },
  {
   "cell_type": "code",
   "execution_count": null,
   "id": "e5ba88e2-a86c-441a-aa94-0317e2e3e548",
   "metadata": {},
   "outputs": [],
   "source": [
    "housing.head()"
   ]
  },
  {
   "cell_type": "code",
   "execution_count": null,
   "id": "38967ac0-71cc-495b-a40e-c29568d0da99",
   "metadata": {},
   "outputs": [],
   "source": [
    "housing.info()"
   ]
  },
  {
   "cell_type": "code",
   "execution_count": null,
   "id": "8ae18ec5-e170-413d-b8ef-e7016e62f995",
   "metadata": {},
   "outputs": [],
   "source": [
    "housing[\"ocean_proximity\"].value_counts()"
   ]
  },
  {
   "cell_type": "code",
   "execution_count": null,
   "id": "640956e2-240e-466c-9cdb-e52443fc6db7",
   "metadata": {},
   "outputs": [],
   "source": [
    "housing.describe()"
   ]
  },
  {
   "cell_type": "code",
   "execution_count": null,
   "id": "d3d897cd-937c-4a26-9938-ee0995f84a51",
   "metadata": {},
   "outputs": [],
   "source": [
    " %matplotlib inline   \n",
    " import matplotlib.pyplot as plt\n",
    " housing.hist(bins=50, figsize=(20,15))\n",
    " plt.show()"
   ]
  },
  {
   "cell_type": "code",
   "execution_count": null,
   "id": "488fff20-3733-4baf-8c23-5015f5e8555f",
   "metadata": {},
   "outputs": [],
   "source": [
    "housing = housing.reset_index(drop=True)\n"
   ]
  },
  {
   "cell_type": "code",
   "execution_count": null,
   "id": "c8b2d7c9-f18c-454d-83ed-9c11a2b9c71c",
   "metadata": {},
   "outputs": [],
   "source": [
    " housing[\"income_cat\"] = np.ceil(housing[\"median_income\"] / 1.5)\n",
    " housing[\"income_cat\"].where(housing[\"income_cat\"] < 5, 5.0, inplace=True)"
   ]
  },
  {
   "cell_type": "code",
   "execution_count": null,
   "id": "4e6b982b-44b2-4ae1-8aaa-b7c50861efa9",
   "metadata": {},
   "outputs": [],
   "source": [
    "from sklearn.model_selection import StratifiedShuffleSplit\n",
    "split = StratifiedShuffleSplit(n_splits=1, test_size=0.2, random_state=42)\n",
    "for train_index, test_index in split.split(housing, housing[\"income_cat\"]):\n",
    "    strat_train_set = housing.loc[train_index]\n",
    "    strat_test_set = housing.loc[test_index]"
   ]
  },
  {
   "cell_type": "code",
   "execution_count": null,
   "id": "ab4c22e6-897e-4cbb-9727-5f615a0251fc",
   "metadata": {},
   "outputs": [],
   "source": [
    "strat_test_set[\"income_cat\"].value_counts() / len(strat_test_set)"
   ]
  },
  {
   "cell_type": "code",
   "execution_count": null,
   "id": "4eb76cfc-1411-495e-839f-c0f664181b77",
   "metadata": {},
   "outputs": [],
   "source": [
    "for set_ in (strat_train_set, strat_test_set):\n",
    "    set_.drop(\"income_cat\", axis=1, inplace=True)"
   ]
  },
  {
   "cell_type": "code",
   "execution_count": null,
   "id": "aa208708-da13-4ed6-a2c0-3e5d8ca96372",
   "metadata": {},
   "outputs": [],
   "source": [
    "housing.plot(kind=\"scatter\", x=\"longitude\", y=\"latitude\",edgecolor=\"black\",\n",
    "    linewidth=0.5,       # Optional: controls outline thickness\n",
    "    alpha=0.2,         # Optional: make points slightly transparent\n",
    "    figsize=(10, 7))"
   ]
  },
  {
   "cell_type": "code",
   "execution_count": null,
   "id": "d535fa16-f5b1-4c1b-9bc1-089a2b4a59b5",
   "metadata": {},
   "outputs": [],
   "source": [
    "housing.plot(kind=\"scatter\", x=\"longitude\", y=\"latitude\", alpha=0.4,\n",
    "    s=housing[\"population\"]/100, label=\"population\", figsize=(10,7),\n",
    "    c=\"median_house_value\", cmap=plt.get_cmap(\"jet\"), colorbar=True,\n",
    " )\n",
    "plt.legend()"
   ]
  },
  {
   "cell_type": "code",
   "execution_count": null,
   "id": "849c81fe-3897-4321-9240-87d1fcf76cea",
   "metadata": {},
   "outputs": [],
   "source": [
    "numeric_housing = housing.select_dtypes(include=[\"float64\", \"int64\"])\n"
   ]
  },
  {
   "cell_type": "code",
   "execution_count": null,
   "id": "9e6a43c7-c0f7-4976-bc37-dff20e8a2e05",
   "metadata": {},
   "outputs": [],
   "source": [
    "corr_matrix = numeric_housing.corr()"
   ]
  },
  {
   "cell_type": "code",
   "execution_count": null,
   "id": "1f3d0898-3508-4a36-ba0c-b3519d565a4d",
   "metadata": {},
   "outputs": [],
   "source": [
    " corr_matrix[\"median_house_value\"].sort_values(ascending=False)"
   ]
  },
  {
   "cell_type": "code",
   "execution_count": null,
   "id": "c899524a-1000-4455-9646-86ab0bdffe08",
   "metadata": {},
   "outputs": [],
   "source": [
    "from pandas.plotting import scatter_matrix\n",
    "attributes = [\"median_house_value\", \"median_income\", \"total_rooms\",\n",
    " \"housing_median_age\"]\n",
    "scatter_matrix(housing[attributes], figsize=(12, 8))"
   ]
  },
  {
   "cell_type": "code",
   "execution_count": null,
   "id": "7c8300b7-e81b-40e8-9a81-36a2467b37af",
   "metadata": {},
   "outputs": [],
   "source": [
    "housing.plot(kind=\"scatter\", x=\"median_income\", y=\"median_house_value\",edgecolor=\"darkblue\",\n",
    " alpha=0.1)"
   ]
  },
  {
   "cell_type": "code",
   "execution_count": null,
   "id": "4cfdd743-38e6-4258-be18-370f01c9900e",
   "metadata": {},
   "outputs": [],
   "source": [
    "housing[\"rooms_per_household\"] = housing[\"total_rooms\"]/housing[\"households\"]\n",
    "housing[\"bedrooms_per_room\"] = housing[\"total_bedrooms\"]/housing[\"total_rooms\"]\n",
    "housing[\"population_per_household\"]=housing[\"population\"]/housing[\"households\"]"
   ]
  },
  {
   "cell_type": "code",
   "execution_count": null,
   "id": "cc0c36c5-d985-4a60-b583-9bb7ba826162",
   "metadata": {},
   "outputs": [],
   "source": [
    "numeric_housing = housing.select_dtypes(include=[\"float64\", \"int64\"])\n"
   ]
  },
  {
   "cell_type": "code",
   "execution_count": null,
   "id": "3bd8c860-986f-4f7d-847d-ec93f99670e9",
   "metadata": {},
   "outputs": [],
   "source": [
    " corr_matrix = numeric_housing.corr()"
   ]
  },
  {
   "cell_type": "code",
   "execution_count": null,
   "id": "388bf004-fe1a-47f9-b010-9627c46d54f2",
   "metadata": {},
   "outputs": [],
   "source": [
    "corr_matrix[\"median_house_value\"].sort_values(ascending=False)"
   ]
  },
  {
   "cell_type": "code",
   "execution_count": null,
   "id": "345bb123-23b1-4473-997b-884f0cebcd85",
   "metadata": {},
   "outputs": [],
   "source": [
    "from sklearn.impute import SimpleImputer\n",
    "\n",
    "imputer = SimpleImputer(strategy=\"median\")"
   ]
  },
  {
   "cell_type": "code",
   "execution_count": null,
   "id": "e56a1733-dcac-4f60-a5ff-5f3006670b45",
   "metadata": {},
   "outputs": [],
   "source": [
    " imputer.fit(numeric_housing)\n"
   ]
  },
  {
   "cell_type": "code",
   "execution_count": null,
   "id": "4091533a-6650-44b4-9b27-3c8e5d63e9db",
   "metadata": {},
   "outputs": [],
   "source": [
    " imputer.statistics_"
   ]
  },
  {
   "cell_type": "code",
   "execution_count": null,
   "id": "7f030667-83e4-43f9-b44d-48044cb0e4be",
   "metadata": {},
   "outputs": [],
   "source": [
    "X = imputer.transform(numeric_housing)"
   ]
  },
  {
   "cell_type": "code",
   "execution_count": null,
   "id": "0af70e7a-0081-4177-94d2-26b7b0a68c19",
   "metadata": {},
   "outputs": [],
   "source": [
    "housing_tr = pd.DataFrame(X, columns=numeric_housing.columns)"
   ]
  },
  {
   "cell_type": "code",
   "execution_count": null,
   "id": "2f16a216-b385-42d6-81b4-40cb4e85b698",
   "metadata": {},
   "outputs": [],
   "source": [
    "housing_cat = housing[\"ocean_proximity\"]\n",
    "housing_cat.sample(10,random_state=42)"
   ]
  },
  {
   "cell_type": "code",
   "execution_count": null,
   "id": "f8e604da-6a4d-43b8-bfe7-304eeb6cf5bb",
   "metadata": {},
   "outputs": [],
   "source": [
    "housing_cat_encoded, housing_categories = housing_cat.factorize()\n",
    "housing_cat_encoded[:10]"
   ]
  },
  {
   "cell_type": "code",
   "execution_count": null,
   "id": "bac8dc31-a8ad-42a3-a39c-b5b0111839df",
   "metadata": {},
   "outputs": [],
   "source": [
    " housing_categories"
   ]
  },
  {
   "cell_type": "code",
   "execution_count": null,
   "id": "354c8bcf-5239-4d02-a0e2-a0faee6e24ce",
   "metadata": {},
   "outputs": [],
   "source": [
    "housing = strat_train_set.copy()"
   ]
  },
  {
   "cell_type": "code",
   "execution_count": null,
   "id": "03f24b15-4b1c-441a-8514-2c1ec30171d5",
   "metadata": {},
   "outputs": [],
   "source": [
    "from sklearn.preprocessing import OneHotEncoder\n",
    "encoder = OneHotEncoder()\n",
    "housing_cat_1hot = encoder.fit_transform(housing_cat_encoded.reshape(-1,1))\n",
    "housing_cat_1hot"
   ]
  },
  {
   "cell_type": "code",
   "execution_count": null,
   "id": "30d44e2c-b06d-4e3e-a8d3-778eea1f61e6",
   "metadata": {},
   "outputs": [],
   "source": [
    "housing_cat_1hot.toarray()"
   ]
  },
  {
   "cell_type": "code",
   "execution_count": null,
   "id": "8a584bef-15ab-4e21-b166-748486c97b0e",
   "metadata": {},
   "outputs": [],
   "source": [
    "from sklearn.preprocessing import OneHotEncoder\n",
    "cat_encoder = OneHotEncoder()\n",
    "housing_cat_1hot = cat_encoder.fit_transform(housing_cat.values.reshape(-1, 1))"
   ]
  },
  {
   "cell_type": "code",
   "execution_count": null,
   "id": "37a1cf89-2dc9-4d51-9adc-1b042b485051",
   "metadata": {},
   "outputs": [],
   "source": [
    " cat_encoder.categories_"
   ]
  },
  {
   "cell_type": "code",
   "execution_count": null,
   "id": "6f2f0d05-44c7-403f-bea4-1a1492a807bf",
   "metadata": {},
   "outputs": [],
   "source": [
    "from sklearn.base import BaseEstimator, TransformerMixin\n",
    "import numpy as np  # Make sure numpy is imported if not already\n",
    "\n",
    "# Indexes of the columns in the dataset\n",
    "rooms_ix, bedrooms_ix, population_ix, household_ix = 3, 4, 5, 6\n",
    "\n",
    "class CombinedAttributesAdder(BaseEstimator, TransformerMixin):\n",
    "    def __init__(self, add_bedrooms_per_room=True):  # No *args or **kwargs\n",
    "        self.add_bedrooms_per_room = add_bedrooms_per_room\n",
    "\n",
    "    def fit(self, X, y=None):\n",
    "        return self  # Nothing to do\n",
    "\n",
    "    def transform(self, X, y=None):\n",
    "        rooms_per_household = X[:, rooms_ix] / X[:, household_ix]\n",
    "        population_per_household = X[:, population_ix] / X[:, household_ix]\n",
    "        if self.add_bedrooms_per_room:\n",
    "            bedrooms_per_room = X[:, bedrooms_ix] / X[:, rooms_ix]\n",
    "            return np.c_[X, rooms_per_household, population_per_household, bedrooms_per_room]\n",
    "        else:\n",
    "            return np.c_[X, rooms_per_household, population_per_household]\n",
    "\n",
    "# Usage\n",
    "attr_adder = CombinedAttributesAdder(add_bedrooms_per_room=False)\n",
    "housing_extra_attribs = attr_adder.transform(housing.values)\n"
   ]
  },
  {
   "cell_type": "code",
   "execution_count": null,
   "id": "c74aa62b-9b89-4fd6-938b-a171dc126976",
   "metadata": {},
   "outputs": [],
   "source": [
    "from sklearn.pipeline import Pipeline\n",
    "from sklearn.preprocessing import StandardScaler\n",
    "from sklearn.impute import SimpleImputer  # Use SimpleImputer, not Imputer\n",
    "\n",
    "# Create the pipeline\n",
    "num_pipeline = Pipeline([\n",
    "    ('imputer', SimpleImputer(strategy=\"median\")),\n",
    "    ('attribs_adder', CombinedAttributesAdder()),\n",
    "    ('std_scaler', StandardScaler()),\n",
    "])\n",
    "\n",
    "# Apply the pipeline to the numeric data\n",
    "housing_num_tr = num_pipeline.fit_transform(numeric_housing)\n"
   ]
  },
  {
   "cell_type": "code",
   "execution_count": null,
   "id": "533b53de-2ea0-4ee3-b167-6745426f46cc",
   "metadata": {},
   "outputs": [],
   "source": [
    "from sklearn.base import BaseEstimator, TransformerMixin\n",
    "\n",
    "class DataFrameSelector(BaseEstimator, TransformerMixin):\n",
    "    def __init__(self, attribute_names):\n",
    "        self.attribute_names = attribute_names\n",
    "\n",
    "    def fit(self, X, y=None):\n",
    "        return self\n",
    "\n",
    "    def transform(self, X):\n",
    "        return X[self.attribute_names].values\n"
   ]
  },
  {
   "cell_type": "code",
   "execution_count": null,
   "id": "43aca877-7aec-437c-bbc9-13e269a8bf67",
   "metadata": {},
   "outputs": [],
   "source": [
    "from sklearn.pipeline import Pipeline\n",
    "from sklearn.impute import SimpleImputer  # Use SimpleImputer instead of deprecated Imputer\n",
    "from sklearn.preprocessing import StandardScaler\n",
    "\n",
    "# Define attribute groups\n",
    "num_attribs = list(numeric_housing)  # assuming housing_num is a DataFrame with numeric features\n",
    "cat_attribs = [\"ocean_proximity\"]\n",
    "\n",
    "# Numerical pipeline\n",
    "num_pipeline = Pipeline([\n",
    "    ('selector', DataFrameSelector(num_attribs)),\n",
    "    ('imputer', SimpleImputer(strategy=\"median\")),\n",
    "    ('attribs_adder', CombinedAttributesAdder()),\n",
    "    ('std_scaler', StandardScaler()),\n",
    "])\n"
   ]
  },
  {
   "cell_type": "code",
   "execution_count": null,
   "id": "7e393217-6231-4396-9e54-dd307ba8e0e7",
   "metadata": {},
   "outputs": [],
   "source": [
    "from sklearn.pipeline import Pipeline\n",
    "from sklearn.preprocessing import OneHotEncoder\n",
    "from sklearn.compose import ColumnTransformer\n",
    "from sklearn.impute import SimpleImputer\n",
    "\n",
    "# Categorical pipeline\n",
    "cat_pipeline = Pipeline([\n",
    "    ('selector', DataFrameSelector(cat_attribs)),\n",
    "    ('imputer', SimpleImputer(strategy='most_frequent')),\n",
    "    ('onehot', OneHotEncoder(handle_unknown='ignore')),\n",
    "])\n"
   ]
  },
  {
   "cell_type": "code",
   "execution_count": null,
   "id": "e97cedb7-1d0e-4b75-b035-2806a5e6a5f3",
   "metadata": {},
   "outputs": [],
   "source": [
    "num_attribs = [\n",
    "    'longitude', 'latitude', 'housing_median_age',\n",
    "    'total_rooms', 'total_bedrooms', 'population',\n",
    "    'households', 'median_income'\n",
    "]\n"
   ]
  },
  {
   "cell_type": "code",
   "execution_count": null,
   "id": "1de41724-7550-4f7f-9c38-bed37336fa49",
   "metadata": {},
   "outputs": [],
   "source": [
    "# Final full pipeline\n",
    "full_pipeline = ColumnTransformer([\n",
    "    ('num', Pipeline([\n",
    "        ('imputer', SimpleImputer(strategy=\"median\")),\n",
    "        ('attribs_adder', CombinedAttributesAdder()),\n",
    "        ('std_scaler', StandardScaler()),\n",
    "    ]), num_attribs),\n",
    "\n",
    "    ('cat', Pipeline([\n",
    "        ('imputer', SimpleImputer(strategy='most_frequent')),\n",
    "        ('onehot', OneHotEncoder(handle_unknown='ignore')),\n",
    "    ]), cat_attribs),\n",
    "])\n",
    "\n"
   ]
  },
  {
   "cell_type": "code",
   "execution_count": null,
   "id": "d7b38ae0-74d3-4030-acda-b7a17a2c5c46",
   "metadata": {},
   "outputs": [],
   "source": [
    "housing_prepared = full_pipeline.fit_transform(housing)"
   ]
  },
  {
   "cell_type": "code",
   "execution_count": null,
   "id": "f1c6443d-b8f1-4e81-92a3-4259c7e1ca5c",
   "metadata": {},
   "outputs": [],
   "source": [
    "housing_prepared"
   ]
  },
  {
   "cell_type": "code",
   "execution_count": null,
   "id": "5e841c70-7a96-48c2-8a60-76bbda51935f",
   "metadata": {},
   "outputs": [],
   "source": [
    " housing_prepared.shape"
   ]
  },
  {
   "cell_type": "code",
   "execution_count": null,
   "id": "1fe6a5e2-cd03-43d8-992b-a87ea6c636f2",
   "metadata": {},
   "outputs": [],
   "source": [
    "housing_labels = housing[\"median_house_value\"].copy()\n"
   ]
  },
  {
   "cell_type": "code",
   "execution_count": null,
   "id": "6bc1ff6f-1fb7-4a72-bb24-17edc20967f2",
   "metadata": {},
   "outputs": [],
   "source": [
    " from sklearn.linear_model import LinearRegression\n",
    " lin_reg = LinearRegression()\n",
    " lin_reg.fit(housing_prepared, housing_labels)"
   ]
  },
  {
   "cell_type": "code",
   "execution_count": null,
   "id": "57e8c92d-10b5-483f-b365-8051d8344b42",
   "metadata": {},
   "outputs": [],
   "source": [
    "from sklearn.metrics import mean_squared_error\n",
    "housing_predictions = lin_reg.predict(housing_prepared)\n",
    "lin_mse = mean_squared_error(housing_labels, housing_predictions)\n",
    "lin_rmse = np.sqrt(lin_mse)\n",
    "lin_rmse"
   ]
  },
  {
   "cell_type": "code",
   "execution_count": null,
   "id": "d44232d4-7efa-4ed0-be34-aaa7658d21be",
   "metadata": {},
   "outputs": [],
   "source": [
    " from sklearn.tree import DecisionTreeRegressor\n",
    " tree_reg = DecisionTreeRegressor()\n",
    " tree_reg.fit(housing_prepared, housing_labels)"
   ]
  },
  {
   "cell_type": "code",
   "execution_count": null,
   "id": "0e58cc4f-d5db-4af3-af7e-20ecd1166262",
   "metadata": {},
   "outputs": [],
   "source": [
    "housing_predictions = tree_reg.predict(housing_prepared)\n",
    "tree_mse = mean_squared_error(housing_labels, housing_predictions)\n",
    "tree_rmse = np.sqrt(tree_mse)\n",
    "tree_rmse"
   ]
  },
  {
   "cell_type": "code",
   "execution_count": null,
   "id": "b76214a7-55ed-4203-8f07-101910d03e19",
   "metadata": {},
   "outputs": [],
   "source": [
    "from sklearn.model_selection import cross_val_score\n",
    "scores = cross_val_score(tree_reg, housing_prepared, housing_labels,\n",
    "scoring=\"neg_mean_squared_error\", cv=10)\n",
    "tree_rmse_scores = np.sqrt(-scores)"
   ]
  },
  {
   "cell_type": "code",
   "execution_count": null,
   "id": "78a3de14-0dd1-46c8-b046-922266ba9396",
   "metadata": {},
   "outputs": [],
   "source": [
    "def display_scores(scores):\n",
    "    print(\"Scores:\", scores)    \n",
    "    print(\"Mean:\", scores.mean())\n",
    "    print(\"Standard deviation:\", scores.std())\n"
   ]
  },
  {
   "cell_type": "code",
   "execution_count": null,
   "id": "e6170f56-e581-44ef-a80d-0d25ede3f72a",
   "metadata": {},
   "outputs": [],
   "source": [
    "display_scores(tree_rmse_scores)"
   ]
  },
  {
   "cell_type": "code",
   "execution_count": null,
   "id": "e9e069af-b9e5-414d-bcd7-7ed0752cf2ca",
   "metadata": {},
   "outputs": [],
   "source": [
    "lin_scores = cross_val_score(lin_reg, housing_prepared, housing_labels,                              \n",
    "scoring=\"neg_mean_squared_error\", cv=10)\n",
    "lin_rmse_scores = np.sqrt(-lin_scores)\n",
    "display_scores(lin_rmse_scores)"
   ]
  },
  {
   "cell_type": "code",
   "execution_count": null,
   "id": "31e86e03-a1e5-4092-a023-570bf8ff8ace",
   "metadata": {},
   "outputs": [],
   "source": [
    "from sklearn.ensemble import RandomForestRegressor\n",
    "from sklearn.model_selection import cross_val_score\n",
    "import numpy as np\n",
    "\n",
    "# Create and train the model\n",
    "forest_reg = RandomForestRegressor()\n",
    "forest_reg.fit(housing_prepared, housing_labels)\n",
    "\n",
    "# Cross-validation (returns negative MSE, hence the minus sign)\n",
    "forest_scores = cross_val_score(\n",
    "    forest_reg, housing_prepared, housing_labels,\n",
    "    scoring=\"neg_mean_squared_error\", cv=10\n",
    ")\n",
    "\n",
    "# Calculate RMSE from the negative MSE\n",
    "forest_rmse_scores = np.sqrt(-forest_scores)\n",
    "\n",
    "# Show results\n",
    "print(\"Scores:\", forest_rmse_scores)\n",
    "print(\"Mean:\", forest_rmse_scores.mean())\n",
    "print(\"Standard deviation:\", forest_rmse_scores.std())\n"
   ]
  },
  {
   "cell_type": "code",
   "execution_count": null,
   "id": "431401c8-5e49-4bc6-bdef-8e17a1912ac5",
   "metadata": {},
   "outputs": [],
   "source": [
    "!pip install joblib"
   ]
  },
  {
   "cell_type": "code",
   "execution_count": null,
   "id": "e249dff8-0776-4647-90e2-90bbe5bacc31",
   "metadata": {},
   "outputs": [],
   "source": [
    "from sklearn.model_selection import GridSearchCV\n",
    "param_grid = [\n",
    "{'n_estimators': [3, 10, 30], 'max_features': [2, 4, 6, 8]},\n",
    "{'bootstrap': [False], 'n_estimators': [3, 10], 'max_features': [2, 3, 4]},\n",
    "]\n",
    "forest_reg = RandomForestRegressor()\n",
    "grid_search = GridSearchCV(forest_reg, param_grid, cv=5,\n",
    "scoring='neg_mean_squared_error')\n",
    "grid_search.fit(housing_prepared, housing_labels)"
   ]
  },
  {
   "cell_type": "code",
   "execution_count": null,
   "id": "0f6614c0-712f-449b-9ff7-03c013aee55c",
   "metadata": {},
   "outputs": [],
   "source": [
    "grid_search.best_params_"
   ]
  },
  {
   "cell_type": "code",
   "execution_count": null,
   "id": "ed6a392d-6eac-4bc7-a664-46ba9fd9e995",
   "metadata": {},
   "outputs": [],
   "source": [
    "grid_search.best_estimator_\n"
   ]
  },
  {
   "cell_type": "code",
   "execution_count": null,
   "id": "091d25c6-dbd0-44fd-8fa3-f178e3192b5e",
   "metadata": {},
   "outputs": [],
   "source": [
    " RandomForestRegressor(bootstrap=True, criterion='mse', max_depth=None,\n",
    "           max_features=8, max_leaf_nodes=None, min_impurity_decrease=0.0, min_samples_leaf=1,\n",
    "           min_samples_split=2, min_weight_fraction_leaf=0.0,\n",
    "           n_estimators=30, n_jobs=1, oob_score=False, random_state=42,\n",
    "           verbose=0, warm_start=False)"
   ]
  },
  {
   "cell_type": "code",
   "execution_count": null,
   "id": "0565d60b-c3b2-45ee-92cb-46141e31f620",
   "metadata": {},
   "outputs": [],
   "source": [
    "cvres = grid_search.cv_results_\n",
    "for mean_score, params in zip(cvres[\"mean_test_score\"], cvres[\"params\"]):\n",
    "    print(np.sqrt(-mean_score), params)"
   ]
  },
  {
   "cell_type": "code",
   "execution_count": null,
   "id": "4d89d42a-8184-41b6-a954-3836cf7b4261",
   "metadata": {},
   "outputs": [],
   "source": [
    "feature_importances = grid_search.best_estimator_.feature_importances_"
   ]
  },
  {
   "cell_type": "code",
   "execution_count": null,
   "id": "0db09c09-1351-4595-bebc-0c92844bed20",
   "metadata": {},
   "outputs": [],
   "source": [
    "feature_importances"
   ]
  },
  {
   "cell_type": "code",
   "execution_count": null,
   "id": "f20ac0df-87b8-4ccb-8386-9ddcd5e9e2ce",
   "metadata": {},
   "outputs": [],
   "source": [
    "cat_pipeline.fit(housing[cat_attribs])\n"
   ]
  },
  {
   "cell_type": "code",
   "execution_count": null,
   "id": "a05f1c41-5991-4222-88af-c4c4652869aa",
   "metadata": {},
   "outputs": [],
   "source": [
    "cat_encoder.get_feature_names_out(['ocean_proximity'])\n"
   ]
  },
  {
   "cell_type": "code",
   "execution_count": null,
   "id": "e5b00e4a-8a7c-400d-82ef-dd2782e07648",
   "metadata": {},
   "outputs": [],
   "source": [
    "cat_encoder = full_pipeline.named_transformers_[\"cat\"].named_steps[\"onehot\"]\n",
    "cat_one_hot_attribs = list(cat_encoder.get_feature_names_out(['ocean_proximity']))\n",
    "\n",
    "extra_attribs = [\"rooms_per_hhold\", \"pop_per_hhold\", \"bedrooms_per_room\"]\n",
    "attributes = num_attribs + extra_attribs + cat_one_hot_attribs\n",
    "\n",
    "print(attributes)\n"
   ]
  },
  {
   "cell_type": "code",
   "execution_count": null,
   "id": "634fc843-69e7-4018-b7ac-d9fc0d72dea0",
   "metadata": {},
   "outputs": [],
   "source": [
    "sorted(zip(feature_importances, attributes), reverse=True)"
   ]
  },
  {
   "cell_type": "code",
   "execution_count": null,
   "id": "e8ea6f72-b866-4877-ba25-cb5efbb8f932",
   "metadata": {},
   "outputs": [],
   "source": [
    "final_model = grid_search.best_estimator_\n",
    "X_test = strat_test_set.drop(\"median_house_value\", axis=1)\n",
    "y_test = strat_test_set[\"median_house_value\"].copy()\n",
    "X_test_prepared = full_pipeline.transform(X_test)\n",
    "final_predictions = final_model.predict(X_test_prepared)\n",
    "final_mse = mean_squared_error(y_test, final_predictions)\n",
    "final_rmse = np.sqrt(final_mse) "
   ]
  },
  {
   "cell_type": "code",
   "execution_count": null,
   "id": "e3b985c3-21c1-4ea7-a182-d34cc94bed6e",
   "metadata": {},
   "outputs": [],
   "source": []
  }
 ],
 "metadata": {
  "kernelspec": {
   "display_name": "Python 3 (ipykernel)",
   "language": "python",
   "name": "python3"
  },
  "language_info": {
   "codemirror_mode": {
    "name": "ipython",
    "version": 3
   },
   "file_extension": ".py",
   "mimetype": "text/x-python",
   "name": "python",
   "nbconvert_exporter": "python",
   "pygments_lexer": "ipython3",
   "version": "3.13.1"
  }
 },
 "nbformat": 4,
 "nbformat_minor": 5
}
